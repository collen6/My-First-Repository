{
 "cells": [
  {
   "cell_type": "markdown",
   "id": "eba8bc91",
   "metadata": {},
   "source": [
    "# Data Science Tools and Ecosystem"
   ]
  },
  {
   "cell_type": "markdown",
   "id": "898160d3",
   "metadata": {},
   "source": [
    "In this notebook, Data Science Tools and Ecosystem are summarized"
   ]
  },
  {
   "cell_type": "markdown",
   "id": "cc521251",
   "metadata": {},
   "source": [
    "**Objectives**\n",
    "+ list popular languages for Data Science\n",
    "+ examples of evaluating arithmetic expressions in Python\n",
    "+ Commonly use libraries used by data scientists"
   ]
  },
  {
   "cell_type": "markdown",
   "id": "b7a5f441",
   "metadata": {},
   "source": [
    "Some of the popular languages that Data Scientists use are:"
   ]
  },
  {
   "cell_type": "markdown",
   "id": "c7712cb0",
   "metadata": {},
   "source": [
    "    1. SQL\n",
    "    2. R\n",
    "    3. Python\n",
    "    4. Julia"
   ]
  },
  {
   "cell_type": "markdown",
   "id": "9307236d",
   "metadata": {},
   "source": [
    "Some of the commonly used libraries used by Data Scientists are:"
   ]
  },
  {
   "cell_type": "markdown",
   "id": "20cdf1fd",
   "metadata": {},
   "source": [
    "1. Numpy\n",
    "2. Pandas\n",
    "3. TensorFlow"
   ]
  },
  {
   "cell_type": "markdown",
   "id": "73fe22cf",
   "metadata": {},
   "source": [
    "|Data Sceince Tools|\n",
    "|------------------|\n",
    "|Git |\n",
    "|RStudio |\n",
    "|TensorFlow |"
   ]
  },
  {
   "cell_type": "markdown",
   "id": "f662f27b",
   "metadata": {},
   "source": [
    "### Below are a few examples of evaluating arithmetic expressions in Python"
   ]
  },
  {
   "cell_type": "code",
   "execution_count": 4,
   "id": "3e7fcc7a",
   "metadata": {},
   "outputs": [],
   "source": [
    "#This is a simple arithmetic expression to multiply integers"
   ]
  },
  {
   "cell_type": "code",
   "execution_count": 2,
   "id": "b99760ef",
   "metadata": {},
   "outputs": [
    {
     "data": {
      "text/plain": [
       "17"
      ]
     },
     "execution_count": 2,
     "metadata": {},
     "output_type": "execute_result"
    }
   ],
   "source": [
    "(3*4)+5"
   ]
  },
  {
   "cell_type": "code",
   "execution_count": 3,
   "id": "3f8e201e",
   "metadata": {},
   "outputs": [],
   "source": [
    "#This will convert 200 minutes to hours by dividing by 60"
   ]
  },
  {
   "cell_type": "code",
   "execution_count": 1,
   "id": "9ac54aed",
   "metadata": {},
   "outputs": [
    {
     "data": {
      "text/plain": [
       "3.3333333333333335"
      ]
     },
     "execution_count": 1,
     "metadata": {},
     "output_type": "execute_result"
    }
   ],
   "source": [
    "200/60"
   ]
  },
  {
   "cell_type": "markdown",
   "id": "344c9039",
   "metadata": {},
   "source": []
  },
  {
   "cell_type": "markdown",
   "id": "6e704d8d",
   "metadata": {},
   "source": [
    "## Author\n",
    "Christian "
   ]
  },
  {
   "cell_type": "code",
   "execution_count": null,
   "id": "0240d482",
   "metadata": {},
   "outputs": [],
   "source": []
  }
 ],
 "metadata": {
  "kernelspec": {
   "display_name": "Python 3 (ipykernel)",
   "language": "python",
   "name": "python3"
  },
  "language_info": {
   "codemirror_mode": {
    "name": "ipython",
    "version": 3
   },
   "file_extension": ".py",
   "mimetype": "text/x-python",
   "name": "python",
   "nbconvert_exporter": "python",
   "pygments_lexer": "ipython3",
   "version": "3.10.12"
  }
 },
 "nbformat": 4,
 "nbformat_minor": 5
}
